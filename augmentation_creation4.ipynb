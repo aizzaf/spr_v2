{
 "cells": [
  {
   "cell_type": "code",
   "execution_count": null,
   "metadata": {},
   "outputs": [],
   "source": [
    "!pip install opencv-python"
   ]
  },
  {
   "cell_type": "code",
   "execution_count": 1,
   "metadata": {
    "id": "oWFoxtcE8xcx"
   },
   "outputs": [],
   "source": [
    "import cv2\n",
    "import numpy as np\n",
    "import pandas as pd\n",
    "import os\n",
    "import multiprocessing"
   ]
  },
  {
   "cell_type": "code",
   "execution_count": 2,
   "metadata": {
    "id": "dvGLNVQW_pSR"
   },
   "outputs": [],
   "source": [
    "def translate(path,x,y):\n",
    "  img = cv2.imread(path)\n",
    "  transMat = np.float32([[1,0,x],[0,1,y]])\n",
    "  dimension = (img.shape[1], img.shape[0])\n",
    "  hasil = cv2.warpAffine(img,transMat,dimension)\n",
    "  cv2.imwrite(path.split('.')[0]+'trans'+str(x)+'_'+str(y)+'.jpg',hasil)\n",
    "\n",
    "  df = pd.DataFrame({\n",
    "        'x': x/img.shape[1],\n",
    "        'y': y/img.shape[0],\n",
    "        'label': path.split('.')[0].split('/')[1],\n",
    "        'rot': path.split('.')[0].split('/')[2],\n",
    "        'path': path.split('.')[0]+'trans'+str(x)+'_'+str(y)+'.jpg',   \n",
    "      },index=[0])\n",
    "  df.to_csv('dataset4_csv/'+path.split('.')[0].split('/')[1]+'.csv', mode='a', index=False, header=False)"
   ]
  },
  {
   "cell_type": "code",
   "execution_count": null,
   "metadata": {
    "id": "PsDYqkDfdATc"
   },
   "outputs": [],
   "source": [
    "def crop(path,x1,x2,y1,y2):\n",
    "  img = cv2.imread(path)\n",
    "  (heightm,widthm) = img.shape[:2]\n",
    "  hasil = img[y1:y2,x1:x2]\n",
    "  (heightb,widthb) = hasil.shape[:2]\n",
    "  cv2.imwrite(path.split('.')[0]+'crop'+str(x1)+'-'+str(x2)+'_'+str(y1)+'-'+str(y2)+'.jpg',hasil)\n",
    "\n",
    "  df = pd.DataFrame({\n",
    "        'x': (widthm/2-(x2+x1)/2)/widthb,\n",
    "        'y': (heightm/2-(y2+y1)/2)/heightb,\n",
    "        'label': path.split('.')[0].split('/')[1],\n",
    "        'rot': path.split('.')[0].split('/')[2],\n",
    "        'path': path.split('.')[0]+'crop'+str(x1)+'-'+str(x2)+'_'+str(y1)+'-'+str(y2)+'.jpg',   \n",
    "      },index=[0])\n",
    "  df.to_csv('dataset4_csv/'+path.split('.')[0].split('/')[1]+'.csv', mode='a', index=False, header=False)"
   ]
  },
  {
   "cell_type": "code",
   "execution_count": 3,
   "metadata": {
    "id": "GYdw1OIgD-TW"
   },
   "outputs": [],
   "source": [
    "def id_translate(id):\n",
    "  for a in range(0,337,24):\n",
    "    for x in range(-150,151,50):\n",
    "      for y in range(-150,151,50):\n",
    "        translate('dataset4_image/ID_'+str(id)+'/'+str(a)+'.jpg',x,y)"
   ]
  },
  {
   "cell_type": "code",
   "execution_count": null,
   "metadata": {
    "id": "2WzHdJjPo7TT"
   },
   "outputs": [],
   "source": [
    "def id_crop(id):\n",
    "  for a in range(0,337,24):\n",
    "    for x1 in range(100,201,50):\n",
    "      for x2 in range(2900,3001,50):\n",
    "        for y1 in range(100,201,50):\n",
    "          for y2 in range(2300,2401,50):\n",
    "            crop('dataset4_image/ID_'+str(id)+'/'+str(a)+'.jpg',x1,x2,y1,y2)"
   ]
  },
  {
   "cell_type": "code",
   "execution_count": 4,
   "metadata": {},
   "outputs": [],
   "source": [
    "if __name__ == \"__main__\":\n",
    "     pool = multiprocessing.Pool(processes=35)\n",
    "     pool.map(id_translate, list([223,225,227,228,230,231,233,242,243,245,247,248,251,253,255,256,257,259,261,266,268,270,272,274,277,279,280,282,283,286,287,289,291,292,298])) #change here\n",
    "#      pool.map(id_crop, range(1,9)) #change here"
   ]
  },
  {
   "cell_type": "code",
   "execution_count": 7,
   "metadata": {},
   "outputs": [
    {
     "ename": "NameError",
     "evalue": "name 'pool' is not defined",
     "output_type": "error",
     "traceback": [
      "\u001b[0;31m---------------------------------------------------------------------------\u001b[0m",
      "\u001b[0;31mNameError\u001b[0m                                 Traceback (most recent call last)",
      "\u001b[0;32m<ipython-input-7-8c312cdf6152>\u001b[0m in \u001b[0;36m<module>\u001b[0;34m\u001b[0m\n\u001b[0;32m----> 1\u001b[0;31m \u001b[0mpool\u001b[0m\u001b[0;34m.\u001b[0m\u001b[0mclose\u001b[0m\u001b[0;34m(\u001b[0m\u001b[0;34m)\u001b[0m\u001b[0;34m\u001b[0m\u001b[0;34m\u001b[0m\u001b[0m\n\u001b[0m\u001b[1;32m      2\u001b[0m \u001b[0mpool\u001b[0m\u001b[0;34m.\u001b[0m\u001b[0mterminate\u001b[0m\u001b[0;34m(\u001b[0m\u001b[0;34m)\u001b[0m\u001b[0;34m\u001b[0m\u001b[0;34m\u001b[0m\u001b[0m\n",
      "\u001b[0;31mNameError\u001b[0m: name 'pool' is not defined"
     ]
    }
   ],
   "source": [
    "pool.close()\n",
    "pool.terminate()"
   ]
  },
  {
   "cell_type": "code",
   "execution_count": 6,
   "metadata": {},
   "outputs": [],
   "source": [
    "del translate, id_translate, pool"
   ]
  },
  {
   "cell_type": "markdown",
   "metadata": {},
   "source": [
    "restarting"
   ]
  },
  {
   "cell_type": "code",
   "execution_count": null,
   "metadata": {},
   "outputs": [],
   "source": [
    "import os\n",
    "\n",
    "for id in os.listdir('dataset4_image'):\n",
    "    a = os.path.join('dataset4_image',id)\n",
    "    for filename in os.listdir(a):\n",
    "        if filename.split('.')[0] != str(0) and filename.split('.')[0] != str(120) and filename.split('.')[0] != str(144) and filename.split('.')[0] != str(168) and filename.split('.')[0] != str(192) and filename.split('.')[0] != str(216) and filename.split('.')[0] != str(24) and filename.split('.')[0] != str(240) and filename.split('.')[0] != str(264) and filename.split('.')[0] != str(288) and filename.split('.')[0] != str(312) and filename.split('.')[0] != str(336) and filename.split('.')[0] != str(48) and filename.split('.')[0] != str(72) and filename.split('.')[0] != str(96):\n",
    "            os.remove(os.path.join(a,filename))\n",
    "\n",
    "for id in os.listdir('dataset4_csv'):\n",
    "    a = os.path.join('dataset4_csv',id)\n",
    "    os.remove(a)"
   ]
  }
 ],
 "metadata": {
  "colab": {
   "authorship_tag": "ABX9TyNf0FwzDnYa1cUoTqE+mbCh",
   "provenance": []
  },
  "gpuClass": "standard",
  "kernelspec": {
   "display_name": "Python 3",
   "language": "python",
   "name": "python3"
  },
  "language_info": {
   "codemirror_mode": {
    "name": "ipython",
    "version": 3
   },
   "file_extension": ".py",
   "mimetype": "text/x-python",
   "name": "python",
   "nbconvert_exporter": "python",
   "pygments_lexer": "ipython3",
   "version": "3.7.6"
  },
  "vscode": {
   "interpreter": {
    "hash": "7377b15fb1d8ec9a133a85d123e0bfcb4498fb0166234c49ee8dc4fe735ec0cd"
   }
  }
 },
 "nbformat": 4,
 "nbformat_minor": 1
}
