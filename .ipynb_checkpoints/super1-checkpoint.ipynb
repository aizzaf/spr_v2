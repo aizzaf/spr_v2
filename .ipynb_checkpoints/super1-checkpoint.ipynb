{
 "cells": [
  {
   "cell_type": "markdown",
   "metadata": {},
   "source": [
    "LOADING DATA"
   ]
  },
  {
   "cell_type": "code",
   "execution_count": null,
   "metadata": {
    "scrolled": true
   },
   "outputs": [],
   "source": [
    "!pip install tensorflow\n",
    "!pip install opencv-python"
   ]
  },
  {
   "cell_type": "code",
   "execution_count": 1,
   "metadata": {
    "_cell_guid": "b1076dfc-b9ad-4769-8c92-a6c4dae69d19",
    "_uuid": "8f2839f25d086af736a60e9eeb907d3b93b6e0e5",
    "execution": {
     "iopub.execute_input": "2023-02-02T15:32:58.702624Z",
     "iopub.status.busy": "2023-02-02T15:32:58.702102Z",
     "iopub.status.idle": "2023-02-02T15:33:03.967049Z",
     "shell.execute_reply": "2023-02-02T15:33:03.965989Z",
     "shell.execute_reply.started": "2023-02-02T15:32:58.702526Z"
    }
   },
   "outputs": [],
   "source": [
    "import numpy as np\n",
    "import pandas as pd\n",
    "from sklearn.model_selection import train_test_split\n",
    "from sklearn.preprocessing import LabelBinarizer\n",
    "from tensorflow.keras.preprocessing.image import load_img, img_to_array\n",
    "import multiprocessing\n",
    "import functools\n",
    "import matplotlib.pyplot as plt"
   ]
  },
  {
   "cell_type": "code",
   "execution_count": 2,
   "metadata": {},
   "outputs": [],
   "source": [
    "def init(l):\n",
    "    global lock\n",
    "    lock = l"
   ]
  },
  {
   "cell_type": "code",
   "execution_count": 3,
   "metadata": {
    "execution": {
     "iopub.execute_input": "2023-02-02T15:34:31.477668Z",
     "iopub.status.busy": "2023-02-02T15:34:31.476878Z",
     "iopub.status.idle": "2023-02-02T15:34:31.483427Z",
     "shell.execute_reply": "2023-02-02T15:34:31.482225Z",
     "shell.execute_reply.started": "2023-02-02T15:34:31.477629Z"
    }
   },
   "outputs": [],
   "source": [
    "def read_csv(img,data,lbl,rot,id):\n",
    "    rows = open('dataset4_csv/ID_'+str(id)+'.csv').read().strip().split('\\n')\n",
    "    for row in rows:\n",
    "        row = row.split(',')\n",
    "        (x,y,label,rotation,pathimg) = row\n",
    "        image =  load_img(pathimg, target_size=(256, 256))\n",
    "        image = img_to_array(image)\n",
    "        lock.acquire()\n",
    "        img.append(image)\n",
    "        data.append([x,y])\n",
    "        lbl.append(label)\n",
    "        rot.append(rotation)\n",
    "        lock.release()"
   ]
  },
  {
   "cell_type": "code",
   "execution_count": 4,
   "metadata": {
    "execution": {
     "iopub.execute_input": "2023-02-02T15:34:39.576109Z",
     "iopub.status.busy": "2023-02-02T15:34:39.575737Z",
     "iopub.status.idle": "2023-02-02T15:39:59.747535Z",
     "shell.execute_reply": "2023-02-02T15:39:59.746290Z",
     "shell.execute_reply.started": "2023-02-02T15:34:39.576078Z"
    }
   },
   "outputs": [],
   "source": [
    "if __name__ == '__main__':\n",
    "    \n",
    "    manager = multiprocessing.Manager()\n",
    "    img = manager.list()\n",
    "    data = manager.list()\n",
    "    lbl = manager.list()\n",
    "    rot = manager.list()\n",
    "    \n",
    "    l = multiprocessing.Lock()\n",
    "    \n",
    "    df = pd.read_csv('izzaspr.csv')\n",
    "    \n",
    "    ID = df['Star ID'].tolist()[:37]\n",
    "\n",
    "    partial_read_csv = functools.partial(read_csv, img, data, lbl, rot)\n",
    "\n",
    "    pool = multiprocessing.Pool(processes=36,initializer=init, initargs=(l,))\n",
    "    pool.map(partial_read_csv, ID)"
   ]
  },
  {
   "cell_type": "code",
   "execution_count": 12,
   "metadata": {},
   "outputs": [],
   "source": [
    "pool.close()\n",
    "pool.terminate()"
   ]
  },
  {
   "cell_type": "code",
   "execution_count": 13,
   "metadata": {},
   "outputs": [],
   "source": [
    "img = np.array(img,dtype='float32')\n",
    "data = np.array(data,dtype='float32')\n",
    "lbl = np.array(lbl)\n",
    "rot = np.array(rot)"
   ]
  },
  {
   "cell_type": "code",
   "execution_count": null,
   "metadata": {},
   "outputs": [],
   "source": [
    "img.max()"
   ]
  },
  {
   "cell_type": "code",
   "execution_count": null,
   "metadata": {},
   "outputs": [],
   "source": [
    "plt.imshow(img[0])\n",
    "lbl[0]"
   ]
  },
  {
   "cell_type": "code",
   "execution_count": 14,
   "metadata": {},
   "outputs": [
    {
     "data": {
      "text/html": [
       "<div>\n",
       "<style scoped>\n",
       "    .dataframe tbody tr th:only-of-type {\n",
       "        vertical-align: middle;\n",
       "    }\n",
       "\n",
       "    .dataframe tbody tr th {\n",
       "        vertical-align: top;\n",
       "    }\n",
       "\n",
       "    .dataframe thead th {\n",
       "        text-align: right;\n",
       "    }\n",
       "</style>\n",
       "<table border=\"1\" class=\"dataframe\">\n",
       "  <thead>\n",
       "    <tr style=\"text-align: right;\">\n",
       "      <th></th>\n",
       "      <th>ID_1</th>\n",
       "      <th>ID_101</th>\n",
       "      <th>ID_105</th>\n",
       "      <th>ID_11</th>\n",
       "      <th>ID_110</th>\n",
       "      <th>ID_111</th>\n",
       "      <th>ID_115</th>\n",
       "      <th>ID_119</th>\n",
       "      <th>ID_123</th>\n",
       "      <th>ID_125</th>\n",
       "      <th>...</th>\n",
       "      <th>ID_172</th>\n",
       "      <th>ID_178</th>\n",
       "      <th>ID_180</th>\n",
       "      <th>ID_181</th>\n",
       "      <th>ID_182</th>\n",
       "      <th>ID_184</th>\n",
       "      <th>ID_187</th>\n",
       "      <th>ID_189</th>\n",
       "      <th>ID_192</th>\n",
       "      <th>ID_194</th>\n",
       "    </tr>\n",
       "  </thead>\n",
       "  <tbody>\n",
       "    <tr>\n",
       "      <th>0</th>\n",
       "      <td>1</td>\n",
       "      <td>0</td>\n",
       "      <td>0</td>\n",
       "      <td>0</td>\n",
       "      <td>0</td>\n",
       "      <td>0</td>\n",
       "      <td>0</td>\n",
       "      <td>0</td>\n",
       "      <td>0</td>\n",
       "      <td>0</td>\n",
       "      <td>...</td>\n",
       "      <td>0</td>\n",
       "      <td>0</td>\n",
       "      <td>0</td>\n",
       "      <td>0</td>\n",
       "      <td>0</td>\n",
       "      <td>0</td>\n",
       "      <td>0</td>\n",
       "      <td>0</td>\n",
       "      <td>0</td>\n",
       "      <td>0</td>\n",
       "    </tr>\n",
       "    <tr>\n",
       "      <th>1</th>\n",
       "      <td>0</td>\n",
       "      <td>0</td>\n",
       "      <td>0</td>\n",
       "      <td>0</td>\n",
       "      <td>0</td>\n",
       "      <td>0</td>\n",
       "      <td>0</td>\n",
       "      <td>0</td>\n",
       "      <td>0</td>\n",
       "      <td>0</td>\n",
       "      <td>...</td>\n",
       "      <td>0</td>\n",
       "      <td>0</td>\n",
       "      <td>0</td>\n",
       "      <td>0</td>\n",
       "      <td>0</td>\n",
       "      <td>0</td>\n",
       "      <td>0</td>\n",
       "      <td>0</td>\n",
       "      <td>0</td>\n",
       "      <td>0</td>\n",
       "    </tr>\n",
       "    <tr>\n",
       "      <th>2</th>\n",
       "      <td>0</td>\n",
       "      <td>0</td>\n",
       "      <td>1</td>\n",
       "      <td>0</td>\n",
       "      <td>0</td>\n",
       "      <td>0</td>\n",
       "      <td>0</td>\n",
       "      <td>0</td>\n",
       "      <td>0</td>\n",
       "      <td>0</td>\n",
       "      <td>...</td>\n",
       "      <td>0</td>\n",
       "      <td>0</td>\n",
       "      <td>0</td>\n",
       "      <td>0</td>\n",
       "      <td>0</td>\n",
       "      <td>0</td>\n",
       "      <td>0</td>\n",
       "      <td>0</td>\n",
       "      <td>0</td>\n",
       "      <td>0</td>\n",
       "    </tr>\n",
       "    <tr>\n",
       "      <th>3</th>\n",
       "      <td>0</td>\n",
       "      <td>0</td>\n",
       "      <td>0</td>\n",
       "      <td>0</td>\n",
       "      <td>0</td>\n",
       "      <td>0</td>\n",
       "      <td>0</td>\n",
       "      <td>0</td>\n",
       "      <td>0</td>\n",
       "      <td>0</td>\n",
       "      <td>...</td>\n",
       "      <td>0</td>\n",
       "      <td>0</td>\n",
       "      <td>0</td>\n",
       "      <td>0</td>\n",
       "      <td>0</td>\n",
       "      <td>0</td>\n",
       "      <td>0</td>\n",
       "      <td>0</td>\n",
       "      <td>0</td>\n",
       "      <td>0</td>\n",
       "    </tr>\n",
       "    <tr>\n",
       "      <th>4</th>\n",
       "      <td>0</td>\n",
       "      <td>0</td>\n",
       "      <td>0</td>\n",
       "      <td>1</td>\n",
       "      <td>0</td>\n",
       "      <td>0</td>\n",
       "      <td>0</td>\n",
       "      <td>0</td>\n",
       "      <td>0</td>\n",
       "      <td>0</td>\n",
       "      <td>...</td>\n",
       "      <td>0</td>\n",
       "      <td>0</td>\n",
       "      <td>0</td>\n",
       "      <td>0</td>\n",
       "      <td>0</td>\n",
       "      <td>0</td>\n",
       "      <td>0</td>\n",
       "      <td>0</td>\n",
       "      <td>0</td>\n",
       "      <td>0</td>\n",
       "    </tr>\n",
       "    <tr>\n",
       "      <th>...</th>\n",
       "      <td>...</td>\n",
       "      <td>...</td>\n",
       "      <td>...</td>\n",
       "      <td>...</td>\n",
       "      <td>...</td>\n",
       "      <td>...</td>\n",
       "      <td>...</td>\n",
       "      <td>...</td>\n",
       "      <td>...</td>\n",
       "      <td>...</td>\n",
       "      <td>...</td>\n",
       "      <td>...</td>\n",
       "      <td>...</td>\n",
       "      <td>...</td>\n",
       "      <td>...</td>\n",
       "      <td>...</td>\n",
       "      <td>...</td>\n",
       "      <td>...</td>\n",
       "      <td>...</td>\n",
       "      <td>...</td>\n",
       "      <td>...</td>\n",
       "    </tr>\n",
       "    <tr>\n",
       "      <th>27190</th>\n",
       "      <td>0</td>\n",
       "      <td>0</td>\n",
       "      <td>0</td>\n",
       "      <td>0</td>\n",
       "      <td>0</td>\n",
       "      <td>0</td>\n",
       "      <td>0</td>\n",
       "      <td>0</td>\n",
       "      <td>0</td>\n",
       "      <td>0</td>\n",
       "      <td>...</td>\n",
       "      <td>0</td>\n",
       "      <td>0</td>\n",
       "      <td>0</td>\n",
       "      <td>0</td>\n",
       "      <td>0</td>\n",
       "      <td>0</td>\n",
       "      <td>0</td>\n",
       "      <td>0</td>\n",
       "      <td>0</td>\n",
       "      <td>1</td>\n",
       "    </tr>\n",
       "    <tr>\n",
       "      <th>27191</th>\n",
       "      <td>0</td>\n",
       "      <td>0</td>\n",
       "      <td>0</td>\n",
       "      <td>0</td>\n",
       "      <td>0</td>\n",
       "      <td>0</td>\n",
       "      <td>0</td>\n",
       "      <td>0</td>\n",
       "      <td>0</td>\n",
       "      <td>0</td>\n",
       "      <td>...</td>\n",
       "      <td>0</td>\n",
       "      <td>0</td>\n",
       "      <td>0</td>\n",
       "      <td>0</td>\n",
       "      <td>0</td>\n",
       "      <td>0</td>\n",
       "      <td>0</td>\n",
       "      <td>0</td>\n",
       "      <td>0</td>\n",
       "      <td>1</td>\n",
       "    </tr>\n",
       "    <tr>\n",
       "      <th>27192</th>\n",
       "      <td>0</td>\n",
       "      <td>0</td>\n",
       "      <td>0</td>\n",
       "      <td>0</td>\n",
       "      <td>0</td>\n",
       "      <td>0</td>\n",
       "      <td>0</td>\n",
       "      <td>0</td>\n",
       "      <td>0</td>\n",
       "      <td>0</td>\n",
       "      <td>...</td>\n",
       "      <td>0</td>\n",
       "      <td>0</td>\n",
       "      <td>0</td>\n",
       "      <td>0</td>\n",
       "      <td>0</td>\n",
       "      <td>0</td>\n",
       "      <td>0</td>\n",
       "      <td>0</td>\n",
       "      <td>0</td>\n",
       "      <td>1</td>\n",
       "    </tr>\n",
       "    <tr>\n",
       "      <th>27193</th>\n",
       "      <td>0</td>\n",
       "      <td>0</td>\n",
       "      <td>0</td>\n",
       "      <td>0</td>\n",
       "      <td>0</td>\n",
       "      <td>0</td>\n",
       "      <td>0</td>\n",
       "      <td>0</td>\n",
       "      <td>0</td>\n",
       "      <td>0</td>\n",
       "      <td>...</td>\n",
       "      <td>0</td>\n",
       "      <td>0</td>\n",
       "      <td>0</td>\n",
       "      <td>0</td>\n",
       "      <td>0</td>\n",
       "      <td>0</td>\n",
       "      <td>0</td>\n",
       "      <td>0</td>\n",
       "      <td>0</td>\n",
       "      <td>1</td>\n",
       "    </tr>\n",
       "    <tr>\n",
       "      <th>27194</th>\n",
       "      <td>0</td>\n",
       "      <td>0</td>\n",
       "      <td>0</td>\n",
       "      <td>0</td>\n",
       "      <td>0</td>\n",
       "      <td>0</td>\n",
       "      <td>0</td>\n",
       "      <td>0</td>\n",
       "      <td>0</td>\n",
       "      <td>0</td>\n",
       "      <td>...</td>\n",
       "      <td>0</td>\n",
       "      <td>0</td>\n",
       "      <td>0</td>\n",
       "      <td>0</td>\n",
       "      <td>0</td>\n",
       "      <td>0</td>\n",
       "      <td>0</td>\n",
       "      <td>0</td>\n",
       "      <td>0</td>\n",
       "      <td>1</td>\n",
       "    </tr>\n",
       "  </tbody>\n",
       "</table>\n",
       "<p>27195 rows × 37 columns</p>\n",
       "</div>"
      ],
      "text/plain": [
       "       ID_1  ID_101  ID_105  ID_11  ID_110  ID_111  ID_115  ID_119  ID_123  \\\n",
       "0         1       0       0      0       0       0       0       0       0   \n",
       "1         0       0       0      0       0       0       0       0       0   \n",
       "2         0       0       1      0       0       0       0       0       0   \n",
       "3         0       0       0      0       0       0       0       0       0   \n",
       "4         0       0       0      1       0       0       0       0       0   \n",
       "...     ...     ...     ...    ...     ...     ...     ...     ...     ...   \n",
       "27190     0       0       0      0       0       0       0       0       0   \n",
       "27191     0       0       0      0       0       0       0       0       0   \n",
       "27192     0       0       0      0       0       0       0       0       0   \n",
       "27193     0       0       0      0       0       0       0       0       0   \n",
       "27194     0       0       0      0       0       0       0       0       0   \n",
       "\n",
       "       ID_125  ...  ID_172  ID_178  ID_180  ID_181  ID_182  ID_184  ID_187  \\\n",
       "0           0  ...       0       0       0       0       0       0       0   \n",
       "1           0  ...       0       0       0       0       0       0       0   \n",
       "2           0  ...       0       0       0       0       0       0       0   \n",
       "3           0  ...       0       0       0       0       0       0       0   \n",
       "4           0  ...       0       0       0       0       0       0       0   \n",
       "...       ...  ...     ...     ...     ...     ...     ...     ...     ...   \n",
       "27190       0  ...       0       0       0       0       0       0       0   \n",
       "27191       0  ...       0       0       0       0       0       0       0   \n",
       "27192       0  ...       0       0       0       0       0       0       0   \n",
       "27193       0  ...       0       0       0       0       0       0       0   \n",
       "27194       0  ...       0       0       0       0       0       0       0   \n",
       "\n",
       "       ID_189  ID_192  ID_194  \n",
       "0           0       0       0  \n",
       "1           0       0       0  \n",
       "2           0       0       0  \n",
       "3           0       0       0  \n",
       "4           0       0       0  \n",
       "...       ...     ...     ...  \n",
       "27190       0       0       1  \n",
       "27191       0       0       1  \n",
       "27192       0       0       1  \n",
       "27193       0       0       1  \n",
       "27194       0       0       1  \n",
       "\n",
       "[27195 rows x 37 columns]"
      ]
     },
     "execution_count": 14,
     "metadata": {},
     "output_type": "execute_result"
    }
   ],
   "source": [
    "lb = LabelBinarizer()\n",
    "lbl = lb.fit_transform(lbl)\n",
    "pd.DataFrame(lbl, columns=lb.classes_)"
   ]
  },
  {
   "cell_type": "code",
   "execution_count": 15,
   "metadata": {},
   "outputs": [
    {
     "data": {
      "text/html": [
       "<div>\n",
       "<style scoped>\n",
       "    .dataframe tbody tr th:only-of-type {\n",
       "        vertical-align: middle;\n",
       "    }\n",
       "\n",
       "    .dataframe tbody tr th {\n",
       "        vertical-align: top;\n",
       "    }\n",
       "\n",
       "    .dataframe thead th {\n",
       "        text-align: right;\n",
       "    }\n",
       "</style>\n",
       "<table border=\"1\" class=\"dataframe\">\n",
       "  <thead>\n",
       "    <tr style=\"text-align: right;\">\n",
       "      <th></th>\n",
       "      <th>0</th>\n",
       "      <th>120</th>\n",
       "      <th>144</th>\n",
       "      <th>168</th>\n",
       "      <th>192</th>\n",
       "      <th>216</th>\n",
       "      <th>24</th>\n",
       "      <th>240</th>\n",
       "      <th>264</th>\n",
       "      <th>288</th>\n",
       "      <th>312</th>\n",
       "      <th>336</th>\n",
       "      <th>48</th>\n",
       "      <th>72</th>\n",
       "      <th>96</th>\n",
       "    </tr>\n",
       "  </thead>\n",
       "  <tbody>\n",
       "    <tr>\n",
       "      <th>0</th>\n",
       "      <td>1</td>\n",
       "      <td>0</td>\n",
       "      <td>0</td>\n",
       "      <td>0</td>\n",
       "      <td>0</td>\n",
       "      <td>0</td>\n",
       "      <td>0</td>\n",
       "      <td>0</td>\n",
       "      <td>0</td>\n",
       "      <td>0</td>\n",
       "      <td>0</td>\n",
       "      <td>0</td>\n",
       "      <td>0</td>\n",
       "      <td>0</td>\n",
       "      <td>0</td>\n",
       "    </tr>\n",
       "    <tr>\n",
       "      <th>1</th>\n",
       "      <td>1</td>\n",
       "      <td>0</td>\n",
       "      <td>0</td>\n",
       "      <td>0</td>\n",
       "      <td>0</td>\n",
       "      <td>0</td>\n",
       "      <td>0</td>\n",
       "      <td>0</td>\n",
       "      <td>0</td>\n",
       "      <td>0</td>\n",
       "      <td>0</td>\n",
       "      <td>0</td>\n",
       "      <td>0</td>\n",
       "      <td>0</td>\n",
       "      <td>0</td>\n",
       "    </tr>\n",
       "    <tr>\n",
       "      <th>2</th>\n",
       "      <td>1</td>\n",
       "      <td>0</td>\n",
       "      <td>0</td>\n",
       "      <td>0</td>\n",
       "      <td>0</td>\n",
       "      <td>0</td>\n",
       "      <td>0</td>\n",
       "      <td>0</td>\n",
       "      <td>0</td>\n",
       "      <td>0</td>\n",
       "      <td>0</td>\n",
       "      <td>0</td>\n",
       "      <td>0</td>\n",
       "      <td>0</td>\n",
       "      <td>0</td>\n",
       "    </tr>\n",
       "    <tr>\n",
       "      <th>3</th>\n",
       "      <td>1</td>\n",
       "      <td>0</td>\n",
       "      <td>0</td>\n",
       "      <td>0</td>\n",
       "      <td>0</td>\n",
       "      <td>0</td>\n",
       "      <td>0</td>\n",
       "      <td>0</td>\n",
       "      <td>0</td>\n",
       "      <td>0</td>\n",
       "      <td>0</td>\n",
       "      <td>0</td>\n",
       "      <td>0</td>\n",
       "      <td>0</td>\n",
       "      <td>0</td>\n",
       "    </tr>\n",
       "    <tr>\n",
       "      <th>4</th>\n",
       "      <td>1</td>\n",
       "      <td>0</td>\n",
       "      <td>0</td>\n",
       "      <td>0</td>\n",
       "      <td>0</td>\n",
       "      <td>0</td>\n",
       "      <td>0</td>\n",
       "      <td>0</td>\n",
       "      <td>0</td>\n",
       "      <td>0</td>\n",
       "      <td>0</td>\n",
       "      <td>0</td>\n",
       "      <td>0</td>\n",
       "      <td>0</td>\n",
       "      <td>0</td>\n",
       "    </tr>\n",
       "    <tr>\n",
       "      <th>...</th>\n",
       "      <td>...</td>\n",
       "      <td>...</td>\n",
       "      <td>...</td>\n",
       "      <td>...</td>\n",
       "      <td>...</td>\n",
       "      <td>...</td>\n",
       "      <td>...</td>\n",
       "      <td>...</td>\n",
       "      <td>...</td>\n",
       "      <td>...</td>\n",
       "      <td>...</td>\n",
       "      <td>...</td>\n",
       "      <td>...</td>\n",
       "      <td>...</td>\n",
       "      <td>...</td>\n",
       "    </tr>\n",
       "    <tr>\n",
       "      <th>27190</th>\n",
       "      <td>0</td>\n",
       "      <td>0</td>\n",
       "      <td>0</td>\n",
       "      <td>0</td>\n",
       "      <td>0</td>\n",
       "      <td>0</td>\n",
       "      <td>0</td>\n",
       "      <td>0</td>\n",
       "      <td>0</td>\n",
       "      <td>0</td>\n",
       "      <td>0</td>\n",
       "      <td>1</td>\n",
       "      <td>0</td>\n",
       "      <td>0</td>\n",
       "      <td>0</td>\n",
       "    </tr>\n",
       "    <tr>\n",
       "      <th>27191</th>\n",
       "      <td>0</td>\n",
       "      <td>0</td>\n",
       "      <td>0</td>\n",
       "      <td>0</td>\n",
       "      <td>0</td>\n",
       "      <td>0</td>\n",
       "      <td>0</td>\n",
       "      <td>0</td>\n",
       "      <td>0</td>\n",
       "      <td>0</td>\n",
       "      <td>0</td>\n",
       "      <td>1</td>\n",
       "      <td>0</td>\n",
       "      <td>0</td>\n",
       "      <td>0</td>\n",
       "    </tr>\n",
       "    <tr>\n",
       "      <th>27192</th>\n",
       "      <td>0</td>\n",
       "      <td>0</td>\n",
       "      <td>0</td>\n",
       "      <td>0</td>\n",
       "      <td>0</td>\n",
       "      <td>0</td>\n",
       "      <td>0</td>\n",
       "      <td>0</td>\n",
       "      <td>0</td>\n",
       "      <td>0</td>\n",
       "      <td>0</td>\n",
       "      <td>1</td>\n",
       "      <td>0</td>\n",
       "      <td>0</td>\n",
       "      <td>0</td>\n",
       "    </tr>\n",
       "    <tr>\n",
       "      <th>27193</th>\n",
       "      <td>0</td>\n",
       "      <td>0</td>\n",
       "      <td>0</td>\n",
       "      <td>0</td>\n",
       "      <td>0</td>\n",
       "      <td>0</td>\n",
       "      <td>0</td>\n",
       "      <td>0</td>\n",
       "      <td>0</td>\n",
       "      <td>0</td>\n",
       "      <td>0</td>\n",
       "      <td>1</td>\n",
       "      <td>0</td>\n",
       "      <td>0</td>\n",
       "      <td>0</td>\n",
       "    </tr>\n",
       "    <tr>\n",
       "      <th>27194</th>\n",
       "      <td>0</td>\n",
       "      <td>0</td>\n",
       "      <td>0</td>\n",
       "      <td>0</td>\n",
       "      <td>0</td>\n",
       "      <td>0</td>\n",
       "      <td>0</td>\n",
       "      <td>0</td>\n",
       "      <td>0</td>\n",
       "      <td>0</td>\n",
       "      <td>0</td>\n",
       "      <td>1</td>\n",
       "      <td>0</td>\n",
       "      <td>0</td>\n",
       "      <td>0</td>\n",
       "    </tr>\n",
       "  </tbody>\n",
       "</table>\n",
       "<p>27195 rows × 15 columns</p>\n",
       "</div>"
      ],
      "text/plain": [
       "       0  120  144  168  192  216  24  240  264  288  312  336  48  72  96\n",
       "0      1    0    0    0    0    0   0    0    0    0    0    0   0   0   0\n",
       "1      1    0    0    0    0    0   0    0    0    0    0    0   0   0   0\n",
       "2      1    0    0    0    0    0   0    0    0    0    0    0   0   0   0\n",
       "3      1    0    0    0    0    0   0    0    0    0    0    0   0   0   0\n",
       "4      1    0    0    0    0    0   0    0    0    0    0    0   0   0   0\n",
       "...   ..  ...  ...  ...  ...  ...  ..  ...  ...  ...  ...  ...  ..  ..  ..\n",
       "27190  0    0    0    0    0    0   0    0    0    0    0    1   0   0   0\n",
       "27191  0    0    0    0    0    0   0    0    0    0    0    1   0   0   0\n",
       "27192  0    0    0    0    0    0   0    0    0    0    0    1   0   0   0\n",
       "27193  0    0    0    0    0    0   0    0    0    0    0    1   0   0   0\n",
       "27194  0    0    0    0    0    0   0    0    0    0    0    1   0   0   0\n",
       "\n",
       "[27195 rows x 15 columns]"
      ]
     },
     "execution_count": 15,
     "metadata": {},
     "output_type": "execute_result"
    }
   ],
   "source": [
    "ro = LabelBinarizer()\n",
    "rot = ro.fit_transform(rot)\n",
    "pd.DataFrame(rot, columns=ro.classes_)"
   ]
  },
  {
   "cell_type": "code",
   "execution_count": null,
   "metadata": {},
   "outputs": [],
   "source": [
    "lbl[0], rot[0]"
   ]
  },
  {
   "cell_type": "code",
   "execution_count": 16,
   "metadata": {
    "execution": {
     "iopub.execute_input": "2023-02-02T15:40:58.554965Z",
     "iopub.status.busy": "2023-02-02T15:40:58.554576Z",
     "iopub.status.idle": "2023-02-02T15:40:59.417025Z",
     "shell.execute_reply": "2023-02-02T15:40:59.415951Z",
     "shell.execute_reply.started": "2023-02-02T15:40:58.554932Z"
    }
   },
   "outputs": [],
   "source": [
    "split = train_test_split(img, lbl, rot, data, test_size=0.1)\n",
    "(trainImages, testImages) = split[:2]\n",
    "(trainLabels, testLabels) = split[2:4]\n",
    "(trainRotations, testRotations) = split[4:6]\n",
    "(trainCoordinates, testCoordinates) = split[6:8]\n",
    "split = train_test_split(trainImages, trainLabels, trainRotations, trainCoordinates, test_size=0.1)\n",
    "(trainImages, valImages) = split[:2]\n",
    "(trainLabels, valLabels) = split[2:4]\n",
    "(trainRotations, valRotations) = split[4:6]\n",
    "(trainCoordinates, valCoordinates) = split[6:8]"
   ]
  },
  {
   "cell_type": "code",
   "execution_count": 20,
   "metadata": {},
   "outputs": [
    {
     "ename": "NameError",
     "evalue": "name 'partial_read_csv' is not defined",
     "output_type": "error",
     "traceback": [
      "\u001b[0;31m---------------------------------------------------------------------------\u001b[0m",
      "\u001b[0;31mNameError\u001b[0m                                 Traceback (most recent call last)",
      "\u001b[0;32m<ipython-input-20-16ceda249f30>\u001b[0m in \u001b[0;36m<module>\u001b[0;34m\u001b[0m\n\u001b[0;32m----> 1\u001b[0;31m \u001b[0;32mdel\u001b[0m \u001b[0mpartial_read_csv\u001b[0m\u001b[0;34m,\u001b[0m \u001b[0mpool\u001b[0m\u001b[0;34m,\u001b[0m \u001b[0minit\u001b[0m\u001b[0;34m,\u001b[0m \u001b[0mread_csv\u001b[0m\u001b[0;34m,\u001b[0m \u001b[0mlb\u001b[0m\u001b[0;34m,\u001b[0m \u001b[0mro\u001b[0m\u001b[0;34m,\u001b[0m \u001b[0msplit\u001b[0m\u001b[0;34m\u001b[0m\u001b[0;34m\u001b[0m\u001b[0m\n\u001b[0m",
      "\u001b[0;31mNameError\u001b[0m: name 'partial_read_csv' is not defined"
     ]
    }
   ],
   "source": [
    "del img, data, lbl, rot, l, manager, partial_read_csv, pool, init, read_csv, lb, ro, split "
   ]
  },
  {
   "cell_type": "markdown",
   "metadata": {},
   "source": [
    "MODEL CREATION"
   ]
  },
  {
   "cell_type": "code",
   "execution_count": 21,
   "metadata": {
    "execution": {
     "iopub.execute_input": "2023-02-02T15:41:05.682248Z",
     "iopub.status.busy": "2023-02-02T15:41:05.681869Z",
     "iopub.status.idle": "2023-02-02T15:41:05.690261Z",
     "shell.execute_reply": "2023-02-02T15:41:05.688719Z",
     "shell.execute_reply.started": "2023-02-02T15:41:05.682214Z"
    }
   },
   "outputs": [],
   "source": [
    "from tensorflow.keras.models import Model\n",
    "from tensorflow.keras.layers import Conv2D, MaxPooling2D, Dense, Flatten, Input, Rescaling, Dropout, BatchNormalization, Cropping2D, Lambda\n",
    "from keras.utils.vis_utils import plot_model\n",
    "from tensorflow.keras.optimizers import Adam"
   ]
  },
  {
   "cell_type": "code",
   "execution_count": 22,
   "metadata": {
    "execution": {
     "iopub.execute_input": "2023-02-02T15:41:08.168993Z",
     "iopub.status.busy": "2023-02-02T15:41:08.168274Z",
     "iopub.status.idle": "2023-02-02T15:41:08.198986Z",
     "shell.execute_reply": "2023-02-02T15:41:08.198051Z",
     "shell.execute_reply.started": "2023-02-02T15:41:08.168954Z"
    }
   },
   "outputs": [
    {
     "name": "stdout",
     "output_type": "stream",
     "text": [
      "You must install pydot (`pip install pydot`) and install graphviz (see instructions at https://graphviz.gitlab.io/download/) for plot_model to work.\n"
     ]
    }
   ],
   "source": [
    "#input layer\n",
    "inputs = Input(shape=(256,256,3))\n",
    "scaled_inputs = Rescaling(1/255)(inputs)\n",
    "\n",
    "#label branch\n",
    "# l = Cropping2D(cropping=((58,90),(51,82)))(scaled_inputs)\n",
    "l = Conv2D(16, (3,3), 1, activation = 'relu', kernel_initializer='he_uniform', padding='same')(scaled_inputs)\n",
    "l = BatchNormalization()(l)\n",
    "l = MaxPooling2D()(l)\n",
    "l = Dropout(0.2)(l)\n",
    "l = Conv2D(32, (3,3), 1, activation = 'relu', kernel_initializer='he_uniform', padding='same')(l)\n",
    "l = BatchNormalization()(l)\n",
    "l = MaxPooling2D()(l)\n",
    "l = Dropout(0.3)(l)\n",
    "l = Conv2D(16, (3,3), 1, activation = 'relu', kernel_initializer='he_uniform', padding='same')(l)\n",
    "l = BatchNormalization()(l)\n",
    "l = MaxPooling2D()(l)\n",
    "l = Dropout(0.4)(l)\n",
    "l = Flatten()(l)\n",
    "l = Dense(256, activation='relu', kernel_initializer='he_uniform')(l)\n",
    "l = BatchNormalization()(l)\n",
    "l = Dropout(0.5)(l)\n",
    "l = Dense(37, activation = 'softmax', name='label')(l) #change here\n",
    "\n",
    "#rot branch\n",
    "# r = Cropping2D(cropping=((58,90),(51,82)))(scaled_inputs)\n",
    "r = Conv2D(16, (3,3), 1, activation = 'relu', kernel_initializer='he_uniform', padding='same')(scaled_inputs)\n",
    "r = BatchNormalization()(r)\n",
    "r = MaxPooling2D()(r)\n",
    "r = Dropout(0.2)(r)\n",
    "r = Conv2D(32, (3,3), 1, activation = 'relu', kernel_initializer='he_uniform', padding='same')(r)\n",
    "r = BatchNormalization()(r)\n",
    "r = MaxPooling2D()(r)\n",
    "r = Dropout(0.3)(r)\n",
    "r = Conv2D(16, (3,3), 1, activation = 'relu', kernel_initializer='he_uniform', padding='same')(r)\n",
    "r = BatchNormalization()(r)\n",
    "r = MaxPooling2D()(r)\n",
    "r = Dropout(0.4)(r)\n",
    "r = Flatten()(r)\n",
    "r = Dense(256, activation='relu', kernel_initializer='he_uniform')(r)\n",
    "r = BatchNormalization()(r)\n",
    "r = Dropout(0.5)(r)\n",
    "r = Dense(15, activation = 'softmax', name='rotation')(r)\n",
    "\n",
    "#ann branch\n",
    "# a = Cropping2D(cropping=((58,90),(51,82)))(scaled_inputs)\n",
    "a = Conv2D(16, (3,3), 1, activation = 'relu')(scaled_inputs)\n",
    "a = MaxPooling2D()(a)\n",
    "a = Conv2D(32, (3,3), 1, activation = 'relu')(a)\n",
    "a = MaxPooling2D()(a)\n",
    "a = Conv2D(64, (3,3), 1, activation = 'relu')(a)\n",
    "a = MaxPooling2D()(a)\n",
    "a = Conv2D(128, (3,3), 1, activation = 'relu')(a)\n",
    "a = MaxPooling2D()(a)\n",
    "a = Flatten()(a)\n",
    "a = Dense(32, activation = 'linear')(a)\n",
    "a = Dense(32, activation = 'linear', kernel_regularizer='l2', bias_regularizer='l2')(a)\n",
    "a = Dense(32, activation = 'linear', kernel_regularizer='l2', bias_regularizer='l2')(a)\n",
    "a = Dense(32, activation = 'linear')(a)\n",
    "a = Dense(2, activation = 'linear', name='coordinate')(a)\n",
    "\n",
    "#model\n",
    "model = Model(\n",
    "\tinputs=inputs,\n",
    "\toutputs=(l, r, a))\n",
    "\n",
    "#compile\n",
    "model.compile(loss={\n",
    "\t'label': 'categorical_crossentropy',\n",
    "\t'rotation': 'categorical_crossentropy',\n",
    "\t'coordinate': 'mse',\n",
    "}, optimizer=Adam(learning_rate=0.0001), metrics=['accuracy'])\n",
    "\n",
    "plot_model(model)"
   ]
  },
  {
   "cell_type": "code",
   "execution_count": 24,
   "metadata": {},
   "outputs": [
    {
     "ename": "NameError",
     "evalue": "name 'inputs' is not defined",
     "output_type": "error",
     "traceback": [
      "\u001b[0;31m---------------------------------------------------------------------------\u001b[0m",
      "\u001b[0;31mNameError\u001b[0m                                 Traceback (most recent call last)",
      "\u001b[0;32m<ipython-input-24-c61a4cfd60e7>\u001b[0m in \u001b[0;36m<module>\u001b[0;34m\u001b[0m\n\u001b[0;32m----> 1\u001b[0;31m \u001b[0;32mdel\u001b[0m \u001b[0minputs\u001b[0m\u001b[0;34m,\u001b[0m \u001b[0mscaled_inputs\u001b[0m\u001b[0;34m,\u001b[0m \u001b[0ml\u001b[0m\u001b[0;34m,\u001b[0m \u001b[0mr\u001b[0m\u001b[0;34m,\u001b[0m \u001b[0ma\u001b[0m\u001b[0;34m\u001b[0m\u001b[0;34m\u001b[0m\u001b[0m\n\u001b[0m",
      "\u001b[0;31mNameError\u001b[0m: name 'inputs' is not defined"
     ]
    }
   ],
   "source": [
    "del inputs, scaled_inputs, l, r, a"
   ]
  },
  {
   "cell_type": "markdown",
   "metadata": {},
   "source": [
    "TRAINING"
   ]
  },
  {
   "cell_type": "code",
   "execution_count": 25,
   "metadata": {},
   "outputs": [],
   "source": [
    "from matplotlib import pyplot as plt"
   ]
  },
  {
   "cell_type": "code",
   "execution_count": null,
   "metadata": {
    "execution": {
     "iopub.execute_input": "2023-02-02T15:41:18.926222Z",
     "iopub.status.busy": "2023-02-02T15:41:18.925846Z",
     "iopub.status.idle": "2023-02-02T15:41:18.938218Z",
     "shell.execute_reply": "2023-02-02T15:41:18.937068Z",
     "shell.execute_reply.started": "2023-02-02T15:41:18.926189Z"
    }
   },
   "outputs": [
    {
     "name": "stdout",
     "output_type": "stream",
     "text": [
      "Epoch 1/40\n",
      "345/345 [==============================] - 560s 2s/step - loss: 8.1674 - label_loss: 4.0395 - rotation_loss: 3.5806 - coordinate_loss: 7.9192e-04 - label_accuracy: 0.1051 - rotation_accuracy: 0.1243 - coordinate_accuracy: 0.6675 - val_loss: 7.6446 - val_label_loss: 4.4516 - val_rotation_loss: 2.7346 - val_coordinate_loss: 6.3408e-04 - val_label_accuracy: 0.0331 - val_rotation_accuracy: 0.0817 - val_coordinate_accuracy: 0.7063\n",
      "Epoch 2/40\n",
      "345/345 [==============================] - 558s 2s/step - loss: 6.1382 - label_loss: 2.8943 - rotation_loss: 2.8569 - coordinate_loss: 5.8519e-04 - label_accuracy: 0.2406 - rotation_accuracy: 0.2133 - coordinate_accuracy: 0.7341 - val_loss: 5.4563 - val_label_loss: 2.9022 - val_rotation_loss: 2.2322 - val_coordinate_loss: 5.7465e-04 - val_label_accuracy: 0.2194 - val_rotation_accuracy: 0.2941 - val_coordinate_accuracy: 0.7386\n",
      "Epoch 3/40\n",
      "345/345 [==============================] - 555s 2s/step - loss: 5.1059 - label_loss: 2.4286 - rotation_loss: 2.4075 - coordinate_loss: 5.2537e-04 - label_accuracy: 0.3281 - rotation_accuracy: 0.2866 - coordinate_accuracy: 0.7673 - val_loss: 4.4626 - val_label_loss: 2.2367 - val_rotation_loss: 2.0036 - val_coordinate_loss: 5.6873e-04 - val_label_accuracy: 0.4011 - val_rotation_accuracy: 0.3766 - val_coordinate_accuracy: 0.7410\n",
      "Epoch 4/40\n",
      "345/345 [==============================] - 554s 2s/step - loss: 4.4505 - label_loss: 2.1365 - rotation_loss: 2.1298 - coordinate_loss: 4.8458e-04 - label_accuracy: 0.3921 - rotation_accuracy: 0.3399 - coordinate_accuracy: 0.7887 - val_loss: 4.1082 - val_label_loss: 2.0920 - val_rotation_loss: 1.8662 - val_coordinate_loss: 5.3373e-04 - val_label_accuracy: 0.4359 - val_rotation_accuracy: 0.4322 - val_coordinate_accuracy: 0.7643\n",
      "Epoch 5/40\n",
      "345/345 [==============================] - 552s 2s/step - loss: 3.9527 - label_loss: 1.9275 - rotation_loss: 1.9025 - coordinate_loss: 4.4823e-04 - label_accuracy: 0.4443 - rotation_accuracy: 0.3989 - coordinate_accuracy: 0.8048 - val_loss: 3.8541 - val_label_loss: 1.9959 - val_rotation_loss: 1.7598 - val_coordinate_loss: 5.4658e-04 - val_label_accuracy: 0.4714 - val_rotation_accuracy: 0.4824 - val_coordinate_accuracy: 0.7533\n",
      "Epoch 6/40\n",
      "345/345 [==============================] - 554s 2s/step - loss: 3.5697 - label_loss: 1.7783 - rotation_loss: 1.7122 - coordinate_loss: 4.2301e-04 - label_accuracy: 0.4789 - rotation_accuracy: 0.4515 - coordinate_accuracy: 0.8174 - val_loss: 3.6224 - val_label_loss: 1.8819 - val_rotation_loss: 1.6781 - val_coordinate_loss: 5.2596e-04 - val_label_accuracy: 0.5110 - val_rotation_accuracy: 0.5200 - val_coordinate_accuracy: 0.7590\n",
      "Epoch 7/40\n",
      "345/345 [==============================] - 551s 2s/step - loss: 3.2903 - label_loss: 1.6590 - rotation_loss: 1.5821 - coordinate_loss: 4.0122e-04 - label_accuracy: 0.5113 - rotation_accuracy: 0.4872 - coordinate_accuracy: 0.8258 - val_loss: 3.4581 - val_label_loss: 1.8216 - val_rotation_loss: 1.5985 - val_coordinate_loss: 5.3332e-04 - val_label_accuracy: 0.5274 - val_rotation_accuracy: 0.5511 - val_coordinate_accuracy: 0.7541\n",
      "Epoch 8/40\n",
      "345/345 [==============================] - 554s 2s/step - loss: 3.0439 - label_loss: 1.5439 - rotation_loss: 1.4706 - coordinate_loss: 3.8318e-04 - label_accuracy: 0.5451 - rotation_accuracy: 0.5259 - coordinate_accuracy: 0.8335 - val_loss: 3.2657 - val_label_loss: 1.7214 - val_rotation_loss: 1.5222 - val_coordinate_loss: 5.1905e-04 - val_label_accuracy: 0.5535 - val_rotation_accuracy: 0.5850 - val_coordinate_accuracy: 0.7684\n",
      "Epoch 9/40\n",
      "345/345 [==============================] - 551s 2s/step - loss: 2.8314 - label_loss: 1.4425 - rotation_loss: 1.3724 - coordinate_loss: 3.7080e-04 - label_accuracy: 0.5747 - rotation_accuracy: 0.5654 - coordinate_accuracy: 0.8378 - val_loss: 3.1524 - val_label_loss: 1.6742 - val_rotation_loss: 1.4661 - val_coordinate_loss: 5.0489e-04 - val_label_accuracy: 0.5686 - val_rotation_accuracy: 0.5968 - val_coordinate_accuracy: 0.7712\n",
      "Epoch 10/40\n",
      "345/345 [==============================] - 554s 2s/step - loss: 2.6605 - label_loss: 1.3649 - rotation_loss: 1.2868 - coordinate_loss: 3.6342e-04 - label_accuracy: 0.6000 - rotation_accuracy: 0.5920 - coordinate_accuracy: 0.8428 - val_loss: 3.0249 - val_label_loss: 1.6066 - val_rotation_loss: 1.4119 - val_coordinate_loss: 5.2608e-04 - val_label_accuracy: 0.5850 - val_rotation_accuracy: 0.6221 - val_coordinate_accuracy: 0.7586\n",
      "Epoch 11/40\n",
      "345/345 [==============================] - 551s 2s/step - loss: 2.4990 - label_loss: 1.2878 - rotation_loss: 1.2067 - coordinate_loss: 3.5749e-04 - label_accuracy: 0.6216 - rotation_accuracy: 0.6212 - coordinate_accuracy: 0.8445 - val_loss: 2.9291 - val_label_loss: 1.5627 - val_rotation_loss: 1.3632 - val_coordinate_loss: 5.0367e-04 - val_label_accuracy: 0.6013 - val_rotation_accuracy: 0.6417 - val_coordinate_accuracy: 0.7753\n",
      "Epoch 12/40\n",
      "345/345 [==============================] - 554s 2s/step - loss: 2.3386 - label_loss: 1.2055 - rotation_loss: 1.1309 - coordinate_loss: 3.5138e-04 - label_accuracy: 0.6480 - rotation_accuracy: 0.6455 - coordinate_accuracy: 0.8467 - val_loss: 2.8127 - val_label_loss: 1.4993 - val_rotation_loss: 1.3117 - val_coordinate_loss: 4.9965e-04 - val_label_accuracy: 0.6189 - val_rotation_accuracy: 0.6638 - val_coordinate_accuracy: 0.7745\n",
      "Epoch 13/40\n",
      "345/345 [==============================] - 552s 2s/step - loss: 2.2055 - label_loss: 1.1491 - rotation_loss: 1.0553 - coordinate_loss: 3.4409e-04 - label_accuracy: 0.6708 - rotation_accuracy: 0.6730 - coordinate_accuracy: 0.8494 - val_loss: 2.7300 - val_label_loss: 1.4622 - val_rotation_loss: 1.2668 - val_coordinate_loss: 5.0110e-04 - val_label_accuracy: 0.6319 - val_rotation_accuracy: 0.6863 - val_coordinate_accuracy: 0.7749\n",
      "Epoch 14/40\n",
      "345/345 [==============================] - 554s 2s/step - loss: 2.0750 - label_loss: 1.0843 - rotation_loss: 0.9901 - coordinate_loss: 3.3396e-04 - label_accuracy: 0.6805 - rotation_accuracy: 0.6938 - coordinate_accuracy: 0.8528 - val_loss: 2.6386 - val_label_loss: 1.4325 - val_rotation_loss: 1.2054 - val_coordinate_loss: 4.9311e-04 - val_label_accuracy: 0.6287 - val_rotation_accuracy: 0.6998 - val_coordinate_accuracy: 0.7725\n",
      "Epoch 15/40\n",
      "345/345 [==============================] - 553s 2s/step - loss: 1.9490 - label_loss: 1.0280 - rotation_loss: 0.9206 - coordinate_loss: 3.2566e-04 - label_accuracy: 0.7049 - rotation_accuracy: 0.7200 - coordinate_accuracy: 0.8518 - val_loss: 2.5356 - val_label_loss: 1.3866 - val_rotation_loss: 1.1484 - val_coordinate_loss: 4.9845e-04 - val_label_accuracy: 0.6552 - val_rotation_accuracy: 0.7218 - val_coordinate_accuracy: 0.7733\n",
      "Epoch 16/40\n",
      "345/345 [==============================] - 555s 2s/step - loss: 1.8263 - label_loss: 0.9729 - rotation_loss: 0.8530 - coordinate_loss: 3.0814e-04 - label_accuracy: 0.7183 - rotation_accuracy: 0.7397 - coordinate_accuracy: 0.8601 - val_loss: 2.4590 - val_label_loss: 1.3535 - val_rotation_loss: 1.1049 - val_coordinate_loss: 4.9661e-04 - val_label_accuracy: 0.6495 - val_rotation_accuracy: 0.7337 - val_coordinate_accuracy: 0.7774\n",
      "Epoch 17/40\n",
      "345/345 [==============================] - 555s 2s/step - loss: 1.7036 - label_loss: 0.9062 - rotation_loss: 0.7970 - coordinate_loss: 2.9633e-04 - label_accuracy: 0.7387 - rotation_accuracy: 0.7588 - coordinate_accuracy: 0.8638 - val_loss: 2.3649 - val_label_loss: 1.3138 - val_rotation_loss: 1.0505 - val_coordinate_loss: 5.0535e-04 - val_label_accuracy: 0.6687 - val_rotation_accuracy: 0.7431 - val_coordinate_accuracy: 0.7696\n",
      "Epoch 18/40\n",
      "345/345 [==============================] - 555s 2s/step - loss: 1.6015 - label_loss: 0.8543 - rotation_loss: 0.7469 - coordinate_loss: 2.7983e-04 - label_accuracy: 0.7548 - rotation_accuracy: 0.7777 - coordinate_accuracy: 0.8695 - val_loss: 2.2735 - val_label_loss: 1.2587 - val_rotation_loss: 1.0143 - val_coordinate_loss: 4.9780e-04 - val_label_accuracy: 0.6814 - val_rotation_accuracy: 0.7614 - val_coordinate_accuracy: 0.7798\n",
      "Epoch 19/40\n",
      "345/345 [==============================] - 555s 2s/step - loss: 1.5005 - label_loss: 0.8028 - rotation_loss: 0.6974 - coordinate_loss: 2.6634e-04 - label_accuracy: 0.7746 - rotation_accuracy: 0.7911 - coordinate_accuracy: 0.8743 - val_loss: 2.1962 - val_label_loss: 1.2217 - val_rotation_loss: 0.9740 - val_coordinate_loss: 4.9484e-04 - val_label_accuracy: 0.6904 - val_rotation_accuracy: 0.7733 - val_coordinate_accuracy: 0.7819\n"
     ]
    },
    {
     "name": "stdout",
     "output_type": "stream",
     "text": [
      "Epoch 20/40\n",
      "307/345 [=========================>....] - ETA: 1:00 - loss: 1.3937 - label_loss: 0.7527 - rotation_loss: 0.6407 - coordinate_loss: 2.5150e-04 - label_accuracy: 0.7856 - rotation_accuracy: 0.8124 - coordinate_accuracy: 0.8793"
     ]
    }
   ],
   "source": [
    "hist = model.fit(\n",
    "\ttrainImages, {\n",
    "\t'label': trainLabels,\n",
    "\t'rotation': trainRotations,\n",
    "\t'coordinate': trainCoordinates,\n",
    "},\n",
    "\tvalidation_data= (valImages, {\n",
    "\t'label': valLabels,\n",
    "\t'rotation': valRotations,\n",
    "\t'coordinate': valCoordinates,\n",
    "}),\n",
    "\tbatch_size=64,\n",
    "\tepochs=40)\n",
    "\n",
    "model.save('superz.h5')"
   ]
  },
  {
   "cell_type": "code",
   "execution_count": 27,
   "metadata": {},
   "outputs": [
    {
     "data": {
      "image/png": "[encoded data removed]",
      "text/plain": [
       "<Figure size 432x288 with 1 Axes>"
      ]
     },
     "metadata": {
      "needs_background": "light"
     },
     "output_type": "display_data"
    }
   ],
   "source": [
    "fig = plt.figure()\n",
    "plt.plot(hist.history['loss'], color='teal', label='loss')\n",
    "plt.plot(hist.history['val_loss'], color='orange', label='val_loss')\n",
    "fig.suptitle('Loss', fontsize=20)\n",
    "plt.legend(loc='upper left')\n",
    "plt.savefig('lossz.PNG')"
   ]
  },
  {
   "cell_type": "code",
   "execution_count": 28,
   "metadata": {},
   "outputs": [
    {
     "data": {
      "image/png": "[encoded data removed]",
      "text/plain": [
       "<Figure size 432x288 with 1 Axes>"
      ]
     },
     "metadata": {
      "needs_background": "light"
     },
     "output_type": "display_data"
    }
   ],
   "source": [
    "fig = plt.figure()\n",
    "plt.plot(hist.history['label_accuracy'], color='teal', label='label_accuracy')\n",
    "plt.plot(hist.history['val_label_accuracy'], color='orange', label='val_label_accuracy')\n",
    "fig.suptitle('Accuracy', fontsize=20)\n",
    "plt.legend(loc='upper left')\n",
    "plt.savefig('labelzacc.PNG')"
   ]
  },
  {
   "cell_type": "code",
   "execution_count": 29,
   "metadata": {},
   "outputs": [
    {
     "data": {
      "image/png": "[encoded data removed]",
      "text/plain": [
       "<Figure size 432x288 with 1 Axes>"
      ]
     },
     "metadata": {
      "needs_background": "light"
     },
     "output_type": "display_data"
    }
   ],
   "source": [
    "fig = plt.figure()\n",
    "plt.plot(hist.history['rotation_accuracy'], color='teal', label='rotation_accuracy')\n",
    "plt.plot(hist.history['val_rotation_accuracy'], color='orange', label='val_rotation_accuracy')\n",
    "fig.suptitle('Accuracy', fontsize=20)\n",
    "plt.legend(loc='upper left')\n",
    "plt.savefig('rotationzacc.PNG')"
   ]
  },
  {
   "cell_type": "code",
   "execution_count": 30,
   "metadata": {},
   "outputs": [
    {
     "data": {
      "image/png": "[encoded data removed]",
      "text/plain": [
       "<Figure size 432x288 with 1 Axes>"
      ]
     },
     "metadata": {
      "needs_background": "light"
     },
     "output_type": "display_data"
    }
   ],
   "source": [
    "fig = plt.figure()\n",
    "plt.plot(hist.history['coordinate_accuracy'], color='teal', label='coordinate_accuracy')\n",
    "plt.plot(hist.history['val_coordinate_accuracy'], color='orange', label='val_coorrdinate_accuracy')\n",
    "fig.suptitle('Accuracy', fontsize=20)\n",
    "plt.legend(loc='upper left')\n",
    "plt.savefig('coordinatezacc.PNG')"
   ]
  },
  {
   "cell_type": "markdown",
   "metadata": {},
   "source": [
    "TRAINING FROM H5"
   ]
  },
  {
   "cell_type": "code",
   "execution_count": null,
   "metadata": {},
   "outputs": [],
   "source": [
    "# import numpy as np\n",
    "# import cv2\n",
    "# from keras.models import load_model\n",
    "# from matplotlib import pyplot as plt\n",
    "# from keras.utils.vis_utils import plot_model"
   ]
  },
  {
   "cell_type": "code",
   "execution_count": null,
   "metadata": {},
   "outputs": [],
   "source": [
    "# model = load_model('supery.h5')\n",
    "\n",
    "# # model.compile(loss={\n",
    "# # \t'label': 'categorical_crossentropy',\n",
    "# # \t'rotation': 'categorical_crossentropy',\n",
    "# # \t'coordinate': 'mse',\n",
    "# # }, optimizer='adam', metrics=['accuracy'])\n",
    "# plot_model(model)"
   ]
  },
  {
   "cell_type": "code",
   "execution_count": null,
   "metadata": {},
   "outputs": [],
   "source": [
    "# hist = model.fit(\n",
    "# \ttrainImages, {\n",
    "# \t'label': trainLabels,\n",
    "# \t'rotation': trainRotations,\n",
    "# \t'coordinate': trainCoordinates,\n",
    "# },\n",
    "# \tvalidation_data= (valImages, {\n",
    "# \t'label': valLabels,\n",
    "# \t'rotation': valRotations,\n",
    "# \t'coordinate': valCoordinates,\n",
    "# }),\n",
    "# \tbatch_size=32,\n",
    "# \tepochs=20)"
   ]
  },
  {
   "cell_type": "code",
   "execution_count": null,
   "metadata": {},
   "outputs": [],
   "source": [
    "# fig = plt.figure()\n",
    "# plt.plot(hist.history['loss'], color='teal', label='loss')\n",
    "# plt.plot(hist.history['val_loss'], color='orange', label='val_loss')\n",
    "# fig.suptitle('Loss', fontsize=20)\n",
    "# plt.legend(loc='upper left')\n",
    "# plt.savefig('lossx.PNG')"
   ]
  },
  {
   "cell_type": "code",
   "execution_count": null,
   "metadata": {},
   "outputs": [],
   "source": [
    "# fig = plt.figure()\n",
    "# plt.plot(hist.history['label_accuracy'], color='teal', label='label_accuracy')\n",
    "# plt.plot(hist.history['val_label_accuracy'], color='orange', label='val_label_accuracy')\n",
    "# fig.suptitle('Accuracy', fontsize=20)\n",
    "# plt.legend(loc='upper left')\n",
    "# plt.savefig('labelxacc.PNG')"
   ]
  },
  {
   "cell_type": "code",
   "execution_count": null,
   "metadata": {},
   "outputs": [],
   "source": [
    "# fig = plt.figure()\n",
    "# plt.plot(hist.history['rotation_accuracy'], color='teal', label='rotation_accuracy')\n",
    "# plt.plot(hist.history['val_rotation_accuracy'], color='orange', label='val_rotation_accuracy')\n",
    "# fig.suptitle('Accuracy', fontsize=20)\n",
    "# plt.legend(loc='upper left')\n",
    "# plt.savefig('rotationxacc.PNG')"
   ]
  },
  {
   "cell_type": "code",
   "execution_count": null,
   "metadata": {},
   "outputs": [],
   "source": [
    "# fig = plt.figure()\n",
    "# plt.plot(hist.history['coordinate_accuracy'], color='teal', label='coordinate_accuracy')\n",
    "# plt.plot(hist.history['val_coordinate_accuracy'], color='orange', label='val_coorrdinate_accuracy')\n",
    "# fig.suptitle('Accuracy', fontsize=20)\n",
    "# plt.legend(loc='upper left')\n",
    "# plt.savefig('coordinatexacc.PNG')"
   ]
  },
  {
   "cell_type": "markdown",
   "metadata": {},
   "source": [
    "TESTING"
   ]
  },
  {
   "cell_type": "code",
   "execution_count": 31,
   "metadata": {},
   "outputs": [],
   "source": [
    "import numpy as np\n",
    "import cv2\n",
    "from keras.models import load_model\n",
    "from matplotlib import pyplot as plt\n",
    "from sklearn.metrics import accuracy_score, r2_score\n",
    "# from keras.backend import clear_session\n",
    "import pandas as pd"
   ]
  },
  {
   "cell_type": "code",
   "execution_count": 157,
   "metadata": {},
   "outputs": [
    {
     "name": "stdout",
     "output_type": "stream",
     "text": [
      "85/85 [==============================] - 14s 157ms/step\n"
     ]
    }
   ],
   "source": [
    "# model2v5 = load_model('super2,5.h5', compile=False)\n",
    "\n",
    "# model2v5.compile(loss={\n",
    "# \t'label': 'categorical_crossentropy',\n",
    "# \t'rotation': 'categorical_crossentropy',\n",
    "# \t'coordinate': 'mse',\n",
    "# }, optimizer='adam', metrics=['accuracy'])\n",
    "\n",
    "yhat = model.predict(testImages)\n",
    "y_true = [testLabels,testRotations,testCoordinates]"
   ]
  },
  {
   "cell_type": "code",
   "execution_count": 158,
   "metadata": {},
   "outputs": [
    {
     "data": {
      "text/plain": [
       "(0.8297794117647059, 0.8783088235294118, 0.6566080188878043)"
      ]
     },
     "execution_count": 158,
     "metadata": {},
     "output_type": "execute_result"
    }
   ],
   "source": [
    "#label,rotation,(x,y)\n",
    "accuracy_score(np.argmax(y_true[0],axis=1),np.argmax(yhat[0],axis=1)),accuracy_score(np.argmax(y_true[1],axis=1),np.argmax(yhat[1],axis=1)),r2_score(y_true[2],yhat[2])"
   ]
  },
  {
   "cell_type": "code",
   "execution_count": 130,
   "metadata": {},
   "outputs": [
    {
     "data": {
      "text/plain": [
       "(2720, 2)"
      ]
     },
     "execution_count": 130,
     "metadata": {},
     "output_type": "execute_result"
    }
   ],
   "source": [
    "yhat[2].shape"
   ]
  },
  {
   "cell_type": "markdown",
   "metadata": {},
   "source": [
    "SINGLE TESTING"
   ]
  },
  {
   "cell_type": "code",
   "execution_count": 35,
   "metadata": {},
   "outputs": [],
   "source": [
    "\n",
    "RA = df['RA (deg)'].tolist()[:37]\n",
    "DE = df['DE (deg)'].tolist()[:37]\n",
    "\n",
    "Magnitude = df['Magnitude'].tolist()[:37]\n",
    "rotations = [0,120,144,168,192,216,24,240,264,288,312,336,48,72,96]"
   ]
  },
  {
   "cell_type": "code",
   "execution_count": 77,
   "metadata": {},
   "outputs": [
    {
     "name": "stderr",
     "output_type": "stream",
     "text": [
      "WARNING:matplotlib.image:Clipping input data to the valid range for imshow with RGB data ([0..1] for floats or [0..255] for integers).\n"
     ]
    },
    {
     "data": {
      "text/plain": [
       "<matplotlib.image.AxesImage at 0x7fa8e8399690>"
      ]
     },
     "execution_count": 77,
     "metadata": {},
     "output_type": "execute_result"
    },
    {
     "data": {
      "image/png": "[encoded data removed]",
      "text/plain": [
       "<Figure size 432x288 with 1 Axes>"
      ]
     },
     "metadata": {
      "needs_background": "light"
     },
     "output_type": "display_data"
    }
   ],
   "source": [
    "image = cv2.imread('test_images/144trans150_0-Copy1.jpg')\n",
    "image_show = np.array(image, dtype='float32')\n",
    "image_show_crop = image_show[500:1700, 600:2300]\n",
    "height, width = image_show.shape[:2]\n",
    "image_input = cv2.resize(image_show, (256,256))\n",
    "image_input_crop = image_input[58:166,51:174]\n",
    "# plt.imshow(image_show[500:1700, 600:2300])\n",
    "plt.imshow(image_input)"
   ]
  },
  {
   "cell_type": "code",
   "execution_count": 131,
   "metadata": {
    "scrolled": false
   },
   "outputs": [
    {
     "name": "stdout",
     "output_type": "stream",
     "text": [
      "1/1 [==============================] - 0s 59ms/step\n"
     ]
    },
    {
     "name": "stderr",
     "output_type": "stream",
     "text": [
      "WARNING:matplotlib.image:Clipping input data to the valid range for imshow with RGB data ([0..1] for floats or [0..255] for integers).\n"
     ]
    },
    {
     "name": "stdout",
     "output_type": "stream",
     "text": [
      "-165.07829089999998 11.2274724 171 144 26\n"
     ]
    },
    {
     "data": {
      "image/png": "[encoded data removed]",
      "text/plain": [
       "<Figure size 432x288 with 1 Axes>"
      ]
     },
     "metadata": {
      "needs_background": "light"
     },
     "output_type": "display_data"
    }
   ],
   "source": [
    "y = model.predict(np.expand_dims(image_input,0))\n",
    "label = y[0].argmax()\n",
    "rotation = y[1].argmax()\n",
    "co_x = y[2][0][0]\n",
    "co_y = y[2][0][1]\n",
    "cv2.circle(image_show, (int(np.around(co_x*width+width/2)),int(np.around(co_y*height+height/2))), 190, (255,255,255), thickness=2)\n",
    "cv2.putText(image_show, 'RA=' + str(RA[label]) + '˚ DE=' + str(DE[label]) + '˚ ROLL=' + str(rotations[rotation]) + '˚', (100,100), cv2.FONT_HERSHEY_TRIPLEX, 4, (255,255,255), thickness=2)\n",
    "plt.imshow(image_show)\n",
    "print(RA[label],DE[label],ID[label],rotations[rotation],label)"
   ]
  },
  {
   "cell_type": "code",
   "execution_count": 141,
   "metadata": {},
   "outputs": [
    {
     "data": {
      "text/plain": [
       "3"
      ]
     },
     "execution_count": 141,
     "metadata": {},
     "output_type": "execute_result"
    }
   ],
   "source": [
    "len(y)"
   ]
  },
  {
   "cell_type": "code",
   "execution_count": null,
   "metadata": {},
   "outputs": [],
   "source": [
    "# y1 = model1.predict(np.expand_dims(image_input,0))\n",
    "# label = y[0].argmax()\n",
    "# rotation = y[1].argmax()\n",
    "# co_x = y[2][0][0]\n",
    "# co_y = y[2][0][1]\n",
    "# cv2.circle(image_show, (int(np.around(co_x*width+width/2)),int(np.around(co_y*height+height/2))), 190, (255,255,255), thickness=2)\n",
    "# cv2.putText(image_show, 'RA=' + str(RA[label]) + '˚ DE=' + str(DE[label]) + '˚ ROLL=' + str(rotations[rotation]) + '˚', (100,100), cv2.FONT_HERSHEY_TRIPLEX, 4, (255,255,255), thickness=2)\n",
    "# plt.imshow(image_show)\n",
    "# print(RA[label],DE[label],ID[label],rotations[rotation], label)"
   ]
  },
  {
   "cell_type": "code",
   "execution_count": null,
   "metadata": {},
   "outputs": [],
   "source": [
    "# y = model2.predict(np.expand_dims(image_input,0))\n",
    "# labels = ['ID_1', 'ID_2', 'ID_3','ID_4', 'ID_5', 'ID_6','ID_7', 'ID_8']\n",
    "# rotations = [0,120,144,168,192,216,24,240,264,288,312,336,48,72,96]\n",
    "# label = y[0].argmax()\n",
    "# rotation = y[1].argmax()\n",
    "# co_x = y[2][0][0]\n",
    "# co_y = y[2][0][1]\n",
    "# cv2.circle(image_show, (int(np.around(co_x*width+width/2)),int(np.around(co_y*height+height/2))), 190, (255,255,255), thickness=2)\n",
    "# cv2.putText(image_show, str(labels[label]) + ' ' + str(rotations[rotation]) + ' degree', (100,100), cv2.FONT_HERSHEY_TRIPLEX, 4, (255,255,255), thickness=2)\n",
    "# plt.imshow(image_show)\n",
    "# print(labels[label],rotations[rotation])"
   ]
  },
  {
   "cell_type": "code",
   "execution_count": null,
   "metadata": {},
   "outputs": [],
   "source": [
    "# y = model2v5.predict(np.expand_dims(image_input,0))\n",
    "# labels = ['ID_1', 'ID_2', 'ID_3','ID_4', 'ID_5', 'ID_6','ID_7', 'ID_8']\n",
    "# rotations = [0,120,144,168,192,216,24,240,264,288,312,336,48,72,96]\n",
    "# label = y[0].argmax()\n",
    "# rotation = y[1].argmax()\n",
    "# co_x = y[2][0][0]\n",
    "# co_y = y[2][0][1]\n",
    "# cv2.circle(image_show, (int(np.around(co_x*width+width/2)),int(np.around(co_y*height+height/2))), 190, (255,255,255), thickness=2)\n",
    "# cv2.putText(image_show, str(labels[label]) + ' ' + str(rotations[rotation]) + ' degree', (100,100), cv2.FONT_HERSHEY_TRIPLEX, 4, (255,255,255), thickness=2)\n",
    "# plt.imshow(image_show)\n",
    "# print(labels[label],rotations[rotation])"
   ]
  },
  {
   "cell_type": "code",
   "execution_count": null,
   "metadata": {},
   "outputs": [],
   "source": [
    "# y = model2v75.predict(np.expand_dims(image_input,0))\n",
    "# labels = ['ID_1', 'ID_2', 'ID_3','ID_4', 'ID_5', 'ID_6','ID_7', 'ID_8']\n",
    "# rotations = [0,120,144,168,192,216,24,240,264,288,312,336,48,72,96]\n",
    "# label = y[0].argmax()\n",
    "# rotation = y[1].argmax()\n",
    "# co_x = y[2][0][0]\n",
    "# co_y = y[2][0][1]\n",
    "# cv2.circle(image_show, (int(np.around(co_x*width+width/2)),int(np.around(co_y*height+height/2))), 190, (255,255,255), thickness=2)\n",
    "# cv2.putText(image_show, str(labels[label]) + ' ' + str(rotations[rotation]) + ' degree', (100,100), cv2.FONT_HERSHEY_TRIPLEX, 4, (255,255,255), thickness=2)\n",
    "# plt.imshow(image_show)\n",
    "# print(labels[label],rotations[rotation])"
   ]
  },
  {
   "cell_type": "code",
   "execution_count": null,
   "metadata": {},
   "outputs": [],
   "source": [
    "# y = model2v9.predict(np.expand_dims(image_input,0))\n",
    "# labels = ['ID_1', 'ID_2', 'ID_3','ID_4', 'ID_5', 'ID_6','ID_7', 'ID_8']\n",
    "# rotations = [0,120,144,168,192,216,24,240,264,288,312,336,48,72,96]\n",
    "# label = y[0].argmax()\n",
    "# rotation = y[1].argmax()\n",
    "# co_x = y[2][0][0]\n",
    "# co_y = y[2][0][1]\n",
    "# cv2.circle(image_show, (int(np.around(co_x*width+width/2)),int(np.around(co_y*height+height/2))), 190, (255,255,255), thickness=2)\n",
    "# cv2.putText(image_show, str(labels[label]) + ' ' + str(rotations[rotation]) + ' degree', (100,100), cv2.FONT_HERSHEY_TRIPLEX, 4, (255,255,255), thickness=2)\n",
    "# plt.imshow(image_show)\n",
    "# print(labels[label],rotations[rotation])"
   ]
  },
  {
   "cell_type": "markdown",
   "metadata": {},
   "source": [
    "CONVERTING TO TFLITE"
   ]
  },
  {
   "cell_type": "code",
   "execution_count": 61,
   "metadata": {},
   "outputs": [],
   "source": [
    "import tensorflow as tf"
   ]
  },
  {
   "cell_type": "code",
   "execution_count": 154,
   "metadata": {},
   "outputs": [
    {
     "name": "stderr",
     "output_type": "stream",
     "text": [
      "WARNING:absl:Found untraced functions such as _jit_compiled_convolution_op, _jit_compiled_convolution_op, _jit_compiled_convolution_op, _jit_compiled_convolution_op, _jit_compiled_convolution_op while saving (showing 5 of 11). These functions will not be directly callable after loading.\n"
     ]
    },
    {
     "name": "stdout",
     "output_type": "stream",
     "text": [
      "INFO:tensorflow:Assets written to: /tmp/tmpyj7frc9l/assets\n"
     ]
    },
    {
     "name": "stderr",
     "output_type": "stream",
     "text": [
      "INFO:tensorflow:Assets written to: /tmp/tmpyj7frc9l/assets\n"
     ]
    },
    {
     "data": {
      "text/plain": [
       "9353528"
      ]
     },
     "execution_count": 154,
     "metadata": {},
     "output_type": "execute_result"
    }
   ],
   "source": [
    "TF_LITE_MODEL_FILE_NAME = \"model3.tflite\"\n",
    "tf_lite_converter = tf.lite.TFLiteConverter.from_keras_model(model)\n",
    "tf_lite_converter.optimizations = [tf.lite.Optimize.DEFAULT]\n",
    "tflite_model = tf_lite_converter.convert()\n",
    "tflite_model_name = TF_LITE_MODEL_FILE_NAME\n",
    "open(tflite_model_name, \"wb\").write(tflite_model)"
   ]
  },
  {
   "cell_type": "code",
   "execution_count": 159,
   "metadata": {},
   "outputs": [
    {
     "data": {
      "text/plain": [
       "(0.8297794117647059, 0.8783088235294118, 0.6566079983358392)"
      ]
     },
     "execution_count": 159,
     "metadata": {},
     "output_type": "execute_result"
    }
   ],
   "source": [
    "TF_LITE_MODEL_FILE_NAME = \"model2.tflite\"\n",
    "interpreter = tf.lite.Interpreter(model_path = TF_LITE_MODEL_FILE_NAME)\n",
    "input_details = interpreter.get_input_details()\n",
    "output_details = interpreter.get_output_details()\n",
    "interpreter.resize_tensor_input(input_details[0]['index'], (2720, 256, 256, 3))\n",
    "interpreter.resize_tensor_input(output_details[0]['index'], (2720, 3))\n",
    "interpreter.allocate_tensors()\n",
    "interpreter.set_tensor(input_details[0]['index'], testImages)\n",
    "interpreter.invoke()\n",
    "label = interpreter.get_tensor(output_details[2]['index'])\n",
    "rotation = interpreter.get_tensor(output_details[0]['index'])\n",
    "regression = interpreter.get_tensor(output_details[1]['index'])\n",
    "\n",
    "#label,rotation,(x,y)\n",
    "accuracy_score(np.argmax(y_true[0],axis=1),np.argmax(label,axis=1)),accuracy_score(np.argmax(y_true[1],axis=1),np.argmax(rotation,axis=1)),r2_score(y_true[2],regression)"
   ]
  },
  {
   "cell_type": "code",
   "execution_count": 152,
   "metadata": {},
   "outputs": [
    {
     "data": {
      "text/plain": [
       "(array([ 4, 18, 36, ...,  9, 12, 13]), array([ 4,  2,  2, ...,  9, 12, 13]))"
      ]
     },
     "execution_count": 152,
     "metadata": {},
     "output_type": "execute_result"
    }
   ],
   "source": [
    "np.argmax(y_true[0],axis=1), np.argmax(label,axis=1)"
   ]
  },
  {
   "cell_type": "code",
   "execution_count": 150,
   "metadata": {},
   "outputs": [
    {
     "data": {
      "text/plain": [
       "[{'name': 'StatefulPartitionedCall:2',\n",
       "  'index': 96,\n",
       "  'shape': array([ 1, 15], dtype=int32),\n",
       "  'shape_signature': array([-1, 15], dtype=int32),\n",
       "  'dtype': numpy.float32,\n",
       "  'quantization': (0.0, 0),\n",
       "  'quantization_parameters': {'scales': array([], dtype=float32),\n",
       "   'zero_points': array([], dtype=int32),\n",
       "   'quantized_dimension': 0},\n",
       "  'sparsity_parameters': {}},\n",
       " {'name': 'StatefulPartitionedCall:0',\n",
       "  'index': 91,\n",
       "  'shape': array([1, 2], dtype=int32),\n",
       "  'shape_signature': array([-1,  2], dtype=int32),\n",
       "  'dtype': numpy.float32,\n",
       "  'quantization': (0.0, 0),\n",
       "  'quantization_parameters': {'scales': array([], dtype=float32),\n",
       "   'zero_points': array([], dtype=int32),\n",
       "   'quantized_dimension': 0},\n",
       "  'sparsity_parameters': {}},\n",
       " {'name': 'StatefulPartitionedCall:1',\n",
       "  'index': 94,\n",
       "  'shape': array([ 1, 37], dtype=int32),\n",
       "  'shape_signature': array([-1, 37], dtype=int32),\n",
       "  'dtype': numpy.float32,\n",
       "  'quantization': (0.0, 0),\n",
       "  'quantization_parameters': {'scales': array([], dtype=float32),\n",
       "   'zero_points': array([], dtype=int32),\n",
       "   'quantized_dimension': 0},\n",
       "  'sparsity_parameters': {}}]"
      ]
     },
     "execution_count": 150,
     "metadata": {},
     "output_type": "execute_result"
    }
   ],
   "source": [
    "output_details"
   ]
  }
 ],
 "metadata": {
  "kernelspec": {
   "display_name": "Python 3",
   "language": "python",
   "name": "python3"
  },
  "language_info": {
   "codemirror_mode": {
    "name": "ipython",
    "version": 3
   },
   "file_extension": ".py",
   "mimetype": "text/x-python",
   "name": "python",
   "nbconvert_exporter": "python",
   "pygments_lexer": "ipython3",
   "version": "3.7.6"
  },
  "vscode": {
   "interpreter": {
    "hash": "7377b15fb1d8ec9a133a85d123e0bfcb4498fb0166234c49ee8dc4fe735ec0cd"
   }
  }
 },
 "nbformat": 4,
 "nbformat_minor": 4
}
